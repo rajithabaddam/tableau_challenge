{
 "cells": [
  {
   "cell_type": "code",
   "execution_count": 1,
   "metadata": {},
   "outputs": [],
   "source": [
    "# dependencies and setup\n",
    "import pandas as pd\n",
    "import datetime as dt\n",
    "import warnings\n",
    "warnings.filterwarnings(\"ignore\")"
   ]
  },
  {
   "cell_type": "code",
   "execution_count": 2,
   "metadata": {},
   "outputs": [],
   "source": [
    "# load NYC yellow taxi data\n",
    "city_data_201801 = pd.read_csv(\"201801-citibike-tripdata.csv\")\n",
    "city_data_201802 = pd.read_csv(\"201802-citibike-tripdata.csv\")\n",
    "city_data_201803 = pd.read_csv(\"201803-citibike-tripdata.csv\")\n",
    "city_data_201804 = pd.read_csv(\"201804-citibike-tripdata.csv\")\n",
    "city_data_201805 = pd.read_csv(\"201805-citibike-tripdata.csv\")\n",
    "city_data_201806 = pd.read_csv(\"201806-citibike-tripdata.csv\")\n",
    "city_data_201807 = pd.read_csv(\"201807-citibike-tripdata.csv\")\n",
    "city_data_201808 = pd.read_csv(\"201808-citibike-tripdata.csv\")\n",
    "city_data_201809 = pd.read_csv(\"201809-citibike-tripdata.csv\")\n",
    "city_data_201810 = pd.read_csv(\"201810-citibike-tripdata.csv\")\n",
    "city_data_201811 = pd.read_csv(\"201811-citibike-tripdata.csv\")\n",
    "city_data_201812 = pd.read_csv(\"201812-citibike-tripdata.csv\")\n"
   ]
  },
  {
   "cell_type": "code",
   "execution_count": 3,
   "metadata": {},
   "outputs": [],
   "source": [
    "\n",
    "city_data_2018 = city_data_201801.append(city_data_201802, ignore_index=True).append(city_data_201803, ignore_index=True).append(city_data_201804, ignore_index=True)\\\n",
    ".append(city_data_201805, ignore_index=True).append(city_data_201806, ignore_index=True).append(city_data_201807, ignore_index=True)\\\n",
    ".append(city_data_201808, ignore_index=True).append(city_data_201809, ignore_index=True).append(city_data_201810, ignore_index=True)\\\n",
    ".append(city_data_201811, ignore_index=True).append(city_data_201812, ignore_index=True)"
   ]
  },
  {
   "cell_type": "code",
   "execution_count": 4,
   "metadata": {},
   "outputs": [
    {
     "data": {
      "text/plain": [
       "17548339"
      ]
     },
     "execution_count": 4,
     "metadata": {},
     "output_type": "execute_result"
    }
   ],
   "source": [
    "len(city_data_2018)"
   ]
  },
  {
   "cell_type": "code",
   "execution_count": 5,
   "metadata": {},
   "outputs": [
    {
     "data": {
      "text/html": [
       "<div>\n",
       "<style scoped>\n",
       "    .dataframe tbody tr th:only-of-type {\n",
       "        vertical-align: middle;\n",
       "    }\n",
       "\n",
       "    .dataframe tbody tr th {\n",
       "        vertical-align: top;\n",
       "    }\n",
       "\n",
       "    .dataframe thead th {\n",
       "        text-align: right;\n",
       "    }\n",
       "</style>\n",
       "<table border=\"1\" class=\"dataframe\">\n",
       "  <thead>\n",
       "    <tr style=\"text-align: right;\">\n",
       "      <th></th>\n",
       "      <th>tripduration</th>\n",
       "      <th>starttime</th>\n",
       "      <th>stoptime</th>\n",
       "      <th>start station id</th>\n",
       "      <th>start station name</th>\n",
       "      <th>start station latitude</th>\n",
       "      <th>start station longitude</th>\n",
       "      <th>end station id</th>\n",
       "      <th>end station name</th>\n",
       "      <th>end station latitude</th>\n",
       "      <th>end station longitude</th>\n",
       "      <th>bikeid</th>\n",
       "      <th>usertype</th>\n",
       "      <th>birth year</th>\n",
       "      <th>gender</th>\n",
       "    </tr>\n",
       "  </thead>\n",
       "  <tbody>\n",
       "    <tr>\n",
       "      <th>0</th>\n",
       "      <td>970</td>\n",
       "      <td>2018-01-01 13:50:57.4340</td>\n",
       "      <td>2018-01-01 14:07:08.1860</td>\n",
       "      <td>72.0</td>\n",
       "      <td>W 52 St &amp; 11 Ave</td>\n",
       "      <td>40.767272</td>\n",
       "      <td>-73.993929</td>\n",
       "      <td>505.0</td>\n",
       "      <td>6 Ave &amp; W 33 St</td>\n",
       "      <td>40.749013</td>\n",
       "      <td>-73.988484</td>\n",
       "      <td>31956</td>\n",
       "      <td>Subscriber</td>\n",
       "      <td>1992</td>\n",
       "      <td>1</td>\n",
       "    </tr>\n",
       "    <tr>\n",
       "      <th>1</th>\n",
       "      <td>723</td>\n",
       "      <td>2018-01-01 15:33:30.1820</td>\n",
       "      <td>2018-01-01 15:45:33.3410</td>\n",
       "      <td>72.0</td>\n",
       "      <td>W 52 St &amp; 11 Ave</td>\n",
       "      <td>40.767272</td>\n",
       "      <td>-73.993929</td>\n",
       "      <td>3255.0</td>\n",
       "      <td>8 Ave &amp; W 31 St</td>\n",
       "      <td>40.750585</td>\n",
       "      <td>-73.994685</td>\n",
       "      <td>32536</td>\n",
       "      <td>Subscriber</td>\n",
       "      <td>1969</td>\n",
       "      <td>1</td>\n",
       "    </tr>\n",
       "  </tbody>\n",
       "</table>\n",
       "</div>"
      ],
      "text/plain": [
       "   tripduration                 starttime                  stoptime  \\\n",
       "0           970  2018-01-01 13:50:57.4340  2018-01-01 14:07:08.1860   \n",
       "1           723  2018-01-01 15:33:30.1820  2018-01-01 15:45:33.3410   \n",
       "\n",
       "   start station id start station name  start station latitude  \\\n",
       "0              72.0   W 52 St & 11 Ave               40.767272   \n",
       "1              72.0   W 52 St & 11 Ave               40.767272   \n",
       "\n",
       "   start station longitude  end station id end station name  \\\n",
       "0               -73.993929           505.0  6 Ave & W 33 St   \n",
       "1               -73.993929          3255.0  8 Ave & W 31 St   \n",
       "\n",
       "   end station latitude  end station longitude  bikeid    usertype  \\\n",
       "0             40.749013             -73.988484   31956  Subscriber   \n",
       "1             40.750585             -73.994685   32536  Subscriber   \n",
       "\n",
       "   birth year  gender  \n",
       "0        1992       1  \n",
       "1        1969       1  "
      ]
     },
     "execution_count": 5,
     "metadata": {},
     "output_type": "execute_result"
    }
   ],
   "source": [
    "city_data_2018.head(2)"
   ]
  },
  {
   "cell_type": "code",
   "execution_count": 6,
   "metadata": {},
   "outputs": [
    {
     "data": {
      "text/plain": [
       "17534405"
      ]
     },
     "execution_count": 6,
     "metadata": {},
     "output_type": "execute_result"
    }
   ],
   "source": [
    "city_data_2018_df=city_data_2018.loc[city_data_2018['birth year']>1930]\n",
    "len(city_data_2018_df)"
   ]
  },
  {
   "cell_type": "code",
   "execution_count": 7,
   "metadata": {},
   "outputs": [],
   "source": [
    "city_data_201901 = pd.read_csv(\"201901-citibike-tripdata.csv\")\n",
    "city_data_201902 = pd.read_csv(\"201902-citibike-tripdata.csv\")\n",
    "city_data_201903 = pd.read_csv(\"201903-citibike-tripdata.csv\")\n",
    "city_data_201904 = pd.read_csv(\"201904-citibike-tripdata.csv\")\n",
    "city_data_201905 = pd.read_csv(\"201905-citibike-tripdata.csv\")\n",
    "city_data_201906 = pd.read_csv(\"201906-citibike-tripdata.csv\")\n",
    "city_data_201907 = pd.read_csv(\"201907-citibike-tripdata.csv\")\n",
    "city_data_201909 = pd.read_csv(\"201909-citibike-tripdata.csv\")\n",
    "city_data_201909 = pd.read_csv(\"201909-citibike-tripdata.csv\")\n",
    "city_data_201910 = pd.read_csv(\"201910-citibike-tripdata.csv\")\n",
    "city_data_201911 = pd.read_csv(\"201911-citibike-tripdata.csv\")\n",
    "city_data_201912 = pd.read_csv(\"201912-citibike-tripdata.csv\")"
   ]
  },
  {
   "cell_type": "code",
   "execution_count": 8,
   "metadata": {},
   "outputs": [],
   "source": [
    "city_data_2019 = city_data_201901.append(city_data_201902, ignore_index=True).append(city_data_201903, ignore_index=True).append(city_data_201904, ignore_index=True)\\\n",
    ".append(city_data_201905, ignore_index=True).append(city_data_201906, ignore_index=True).append(city_data_201907, ignore_index=True)\\\n",
    ".append(city_data_201909, ignore_index=True).append(city_data_201909, ignore_index=True).append(city_data_201910, ignore_index=True)\\\n",
    ".append(city_data_201911, ignore_index=True).append(city_data_201912, ignore_index=True)"
   ]
  },
  {
   "cell_type": "code",
   "execution_count": 9,
   "metadata": {},
   "outputs": [
    {
     "data": {
      "text/plain": [
       "20639970"
      ]
     },
     "execution_count": 9,
     "metadata": {},
     "output_type": "execute_result"
    }
   ],
   "source": [
    "city_data_2019_df=city_data_2019.loc[city_data_2019['birth year']>1930]\n",
    "len(city_data_2019_df)"
   ]
  },
  {
   "cell_type": "code",
   "execution_count": 10,
   "metadata": {},
   "outputs": [
    {
     "data": {
      "text/plain": [
       "38174375"
      ]
     },
     "execution_count": 10,
     "metadata": {},
     "output_type": "execute_result"
    }
   ],
   "source": [
    "city_data_full = city_data_2018_df.append(city_data_2019_df, ignore_index=True)\n",
    "city_data = city_data_full.dropna()\n",
    "len(city_data_full)"
   ]
  },
  {
   "cell_type": "code",
   "execution_count": 11,
   "metadata": {},
   "outputs": [
    {
     "data": {
      "text/plain": [
       "tripduration               False\n",
       "starttime                  False\n",
       "stoptime                   False\n",
       "start station id           False\n",
       "start station name         False\n",
       "start station latitude     False\n",
       "start station longitude    False\n",
       "end station id             False\n",
       "end station name           False\n",
       "end station latitude       False\n",
       "end station longitude      False\n",
       "bikeid                     False\n",
       "usertype                   False\n",
       "birth year                 False\n",
       "gender                     False\n",
       "dtype: bool"
      ]
     },
     "execution_count": 11,
     "metadata": {},
     "output_type": "execute_result"
    }
   ],
   "source": [
    "city_data.isnull().any()"
   ]
  },
  {
   "cell_type": "code",
   "execution_count": 12,
   "metadata": {},
   "outputs": [],
   "source": [
    "city_data['Gender'] = city_data['gender'].replace([0,1,2],['unknown',\"Male\",\"Female\"])\n",
    "city_data = city_data.drop('gender',1)"
   ]
  },
  {
   "cell_type": "code",
   "execution_count": 13,
   "metadata": {},
   "outputs": [
    {
     "data": {
      "text/plain": [
       "38171787"
      ]
     },
     "execution_count": 13,
     "metadata": {},
     "output_type": "execute_result"
    }
   ],
   "source": [
    "len(city_data)\n"
   ]
  },
  {
   "cell_type": "code",
   "execution_count": 14,
   "metadata": {},
   "outputs": [],
   "source": [
    "city_data.to_csv(\"citibike_2018_2019.csv\")"
   ]
  },
  {
   "cell_type": "code",
   "execution_count": null,
   "metadata": {},
   "outputs": [],
   "source": []
  }
 ],
 "metadata": {
  "anaconda-cloud": {},
  "kernel_info": {
   "name": "python3"
  },
  "kernelspec": {
   "display_name": "Python 3",
   "language": "python",
   "name": "python3"
  },
  "language_info": {
   "codemirror_mode": {
    "name": "ipython",
    "version": 3
   },
   "file_extension": ".py",
   "mimetype": "text/x-python",
   "name": "python",
   "nbconvert_exporter": "python",
   "pygments_lexer": "ipython3",
   "version": "3.7.6"
  },
  "latex_envs": {
   "LaTeX_envs_menu_present": true,
   "autoclose": false,
   "autocomplete": true,
   "bibliofile": "biblio.bib",
   "cite_by": "apalike",
   "current_citInitial": 1,
   "eqLabelWithNumbers": true,
   "eqNumInitial": 1,
   "hotkeys": {
    "equation": "Ctrl-E",
    "itemize": "Ctrl-I"
   },
   "labels_anchors": false,
   "latex_user_defs": false,
   "report_style_numbering": false,
   "user_envs_cfg": false
  },
  "nteract": {
   "version": "0.2.0"
  }
 },
 "nbformat": 4,
 "nbformat_minor": 2
}
